{
 "cells": [
  {
   "cell_type": "code",
   "execution_count": 1,
   "metadata": {},
   "outputs": [],
   "source": [
    "from __future__ import absolute_import, division, print_function\n",
    "\n",
    "import tensorflow as tf\n",
    "from tensorflow import keras\n",
    "import scipy.io.wavfile as sio\n",
    "import scipy as sp\n",
    "import matplotlib.pyplot as plt\n",
    "from utils import vectorize\n",
    "from utils import vectorize_teensy\n",
    "import csv\n",
    "tf.enable_eager_execution()\n",
    "\n",
    "import numpy as np\n",
    "import os\n",
    "import time"
   ]
  },
  {
   "cell_type": "markdown",
   "metadata": {},
   "source": [
    "# Classification"
   ]
  },
  {
   "cell_type": "code",
   "execution_count": 2,
   "metadata": {},
   "outputs": [
    {
     "name": "stderr",
     "output_type": "stream",
     "text": [
      "/home/darnel/anaconda3/envs/myenv/lib/python3.6/site-packages/scipy/io/wavfile.py:273: WavFileWarning: Chunk (non-data) not understood, skipping it.\n",
      "  WavFileWarning)\n"
     ]
    },
    {
     "name": "stdout",
     "output_type": "stream",
     "text": [
      "(7209, 15)\n",
      "[[0.04435842 0.01085751 0.01109341 0.0052776  0.00206843 0.04220006\n",
      "  0.0101602  0.010917   0.00550243 0.00268411 0.04494159 0.00944559\n",
      "  0.01116051 0.0060773  0.00255613]\n",
      " [0.04445665 0.00913013 0.0132573  0.00644049 0.00262946 0.03863393\n",
      "  0.01063337 0.01448383 0.00633464 0.00254022 0.04780072 0.01023145\n",
      "  0.01145729 0.00516622 0.00253884]\n",
      " [0.04164248 0.00956111 0.01095782 0.00481272 0.00251808 0.04380499\n",
      "  0.0107489  0.01028956 0.00497183 0.00219364 0.0388629  0.0099243\n",
      "  0.01175821 0.00528729 0.00237419]\n",
      " [0.03775052 0.01027642 0.01242716 0.00513994 0.00222339 0.05034025\n",
      "  0.01023491 0.0115486  0.00490681 0.00243784 0.04383128 0.01072192\n",
      "  0.01328359 0.00614233 0.00261424]\n",
      " [0.04557734 0.01053998 0.01451496 0.00592511 0.00255613 0.04212258\n",
      "  0.0102107  0.01051716 0.00520912 0.00237696 0.03911125 0.00885135\n",
      "  0.0114144  0.00527968 0.00261493]\n",
      " [0.04838805 0.00935358 0.01132031 0.00533848 0.00235967 0.04347225\n",
      "  0.01040855 0.01149464 0.00523125 0.0025001  0.04754269 0.01032553\n",
      "  0.01094191 0.00510189 0.00254783]\n",
      " [0.04466349 0.01072607 0.0121802  0.00593134 0.00268065 0.04654099\n",
      "  0.01005297 0.01227359 0.00596247 0.0026011  0.04847244 0.00983713\n",
      "  0.01191455 0.00615063 0.00249595]\n",
      " [0.04394058 0.01176513 0.01268174 0.00587046 0.00303    0.04678588\n",
      "  0.00992637 0.01190418 0.00577707 0.00274914 0.04403605 0.01050124\n",
      "  0.01139848 0.00585524 0.00260041]\n",
      " [0.04600693 0.00960193 0.01166897 0.00536892 0.00262462 0.04841502\n",
      "  0.01036358 0.01220856 0.0057826  0.00286813 0.04796467 0.00983575\n",
      "  0.01111901 0.00501057 0.00275952]\n",
      " [0.05150245 0.0093349  0.01279796 0.00576946 0.0029373  0.0578191\n",
      "  0.00985443 0.01339704 0.00582757 0.00280794 0.05162558 0.01064237\n",
      "  0.01292801 0.00516    0.00282524]]\n"
     ]
    }
   ],
   "source": [
    "##EXAMPLE 1\n",
    "#PRE-PROCESSING AUDIO DATA\n",
    "rate1 , audio1 = sio.read('Recorded_data/bus_stop2.wav')\n",
    "rate2 , audio2 = sio.read('Recorded_data/construction_site2.wav')\n",
    "rate3 , audio3 = sio.read('Recorded_data/park.wav')\n",
    "\n",
    "#Each audio sample here is sampled at 16000hz, so they can all be combined into 1 long sample\n",
    "rate = rate1\n",
    "audio = np.hstack((audio1,audio2,audio3))\n",
    "\n",
    "\n",
    "#Use vectorize function to fft, bin,average, and group data together\n",
    "data = vectorize(audio,rate,1/4,group_size = 3,full = False, training = False, serial = False)\n",
    "\n",
    "print(data.shape)\n",
    "print(data[5000:5010])\n"
   ]
  },
  {
   "cell_type": "code",
   "execution_count": 5,
   "metadata": {
    "scrolled": true
   },
   "outputs": [
    {
     "name": "stdout",
     "output_type": "stream",
     "text": [
      "(33, 15)\n",
      "[[0.21384615 0.05076923 0.02923077 0.02153846 0.01923077 0.15\n",
      "  0.05538462 0.05076923 0.03461538 0.02615385 0.20384615 0.07230769\n",
      "  0.02769231 0.02923077 0.03769231]\n",
      " [0.16230769 0.05       0.03461538 0.02923077 0.02538462 0.19230769\n",
      "  0.04153846 0.02846154 0.03846154 0.03       0.13692308 0.03076923\n",
      "  0.03307692 0.03076923 0.01923077]\n",
      " [0.17846154 0.06692308 0.03307692 0.03384615 0.02615385 0.13461538\n",
      "  0.05923077 0.04       0.03692308 0.02538462 0.16692308 0.05230769\n",
      "  0.03846154 0.04153846 0.04384615]\n",
      " [0.14692308 0.06307692 0.03923077 0.03692308 0.03923077 0.19923077\n",
      "  0.05615385 0.02846154 0.03846154 0.03307692 0.15076923 0.05384615\n",
      "  0.04153846 0.03       0.03692308]\n",
      " [0.13307692 0.03692308 0.03153846 0.02923077 0.03       0.18153846\n",
      "  0.04769231 0.02769231 0.02769231 0.02384615 0.20230769 0.06076923\n",
      "  0.02615385 0.02461538 0.02769231]\n",
      " [0.17615385 0.04846154 0.04538462 0.03076923 0.03384615 0.20076923\n",
      "  0.07846154 0.03538462 0.03769231 0.02076923 0.18615385 0.06307692\n",
      "  0.04153846 0.02769231 0.06846154]\n",
      " [0.18076923 0.04923077 0.03846154 0.02384615 0.02692308 0.14769231\n",
      "  0.05692308 0.04615385 0.02230769 0.02923077 0.15615385 0.04615385\n",
      "  0.02846154 0.02384615 0.01692308]\n",
      " [0.19230769 0.07230769 0.03307692 0.03       0.02153846 0.16692308\n",
      "  0.04461538 0.02769231 0.02384615 0.03       0.21692308 0.04846154\n",
      "  0.03384615 0.02153846 0.01769231]\n",
      " [0.13153846 0.03538462 0.02153846 0.01692308 0.01615385 0.21230769\n",
      "  0.05       0.03076923 0.02461538 0.01923077 0.13461538 0.03538462\n",
      "  0.01692308 0.01307692 0.01230769]\n",
      " [0.21230769 0.05       0.03153846 0.02692308 0.02153846 0.13692308\n",
      "  0.03615385 0.01692308 0.01230769 0.01       0.18538462 0.06384615\n",
      "  0.03769231 0.03230769 0.02384615]]\n"
     ]
    }
   ],
   "source": [
    "##Example 2\n",
    "#PRE-PROCESSING TEENSY DATA\n",
    "\n",
    "path = \"test.csv\" #path to csv file with pasted serial monitor fft data\n",
    "\n",
    "data = vectorize_teensy(path)\n",
    "print(data.shape)\n",
    "print(data[0:10])\n"
   ]
  },
  {
   "cell_type": "code",
   "execution_count": 3,
   "metadata": {},
   "outputs": [
    {
     "data": {
      "text/plain": [
       "<tensorflow.python.training.checkpointable.util.CheckpointLoadStatus at 0x7fcf682d7c18>"
      ]
     },
     "execution_count": 3,
     "metadata": {},
     "output_type": "execute_result"
    }
   ],
   "source": [
    "#Setup current Model and load weights\n",
    "model = tf.keras.models.Sequential([\n",
    "  tf.keras.layers.Dense(9, activation=tf.nn.relu),\n",
    "  tf.keras.layers.Dropout(0.2),\n",
    "  tf.keras.layers.Dense(6, activation=tf.nn.relu),  \n",
    "  tf.keras.layers.Dense(2, activation=tf.nn.softmax),\n",
    "])\n",
    "model.compile(optimizer='adam',\n",
    "              loss='sparse_categorical_crossentropy',\n",
    "              metrics=['accuracy'])\n",
    "\n",
    "# Load weights\n",
    "model.load_weights('./weights/my_model')"
   ]
  },
  {
   "cell_type": "code",
   "execution_count": 7,
   "metadata": {
    "scrolled": true
   },
   "outputs": [
    {
     "data": {
      "image/png": "[encoded data removed]",
      "text/plain": [
       "<Figure size 432x288 with 1 Axes>"
      ]
     },
     "metadata": {
      "needs_background": "light"
     },
     "output_type": "display_data"
    }
   ],
   "source": [
    "#Test and view predictions\n",
    "predictions = model.predict(data)\n",
    "#make and plot predictions\n",
    "c = np.argmax(predictions,axis=1)\n",
    "plt.plot(c)\n",
    "plt.show()"
   ]
  },
  {
   "cell_type": "markdown",
   "metadata": {},
   "source": [
    "# Training"
   ]
  },
  {
   "cell_type": "code",
   "execution_count": 9,
   "metadata": {
    "scrolled": true
   },
   "outputs": [
    {
     "name": "stdout",
     "output_type": "stream",
     "text": [
      "(7209, 15)\n",
      "(7209, 1)\n",
      "[[0.04435842 0.01085751 0.01109341 0.0052776  0.00206843 0.04220006\n",
      "  0.0101602  0.010917   0.00550243 0.00268411 0.04494159 0.00944559\n",
      "  0.01116051 0.0060773  0.00255613]\n",
      " [0.04445665 0.00913013 0.0132573  0.00644049 0.00262946 0.03863393\n",
      "  0.01063337 0.01448383 0.00633464 0.00254022 0.04780072 0.01023145\n",
      "  0.01145729 0.00516622 0.00253884]\n",
      " [0.04164248 0.00956111 0.01095782 0.00481272 0.00251808 0.04380499\n",
      "  0.0107489  0.01028956 0.00497183 0.00219364 0.0388629  0.0099243\n",
      "  0.01175821 0.00528729 0.00237419]\n",
      " [0.03775052 0.01027642 0.01242716 0.00513994 0.00222339 0.05034025\n",
      "  0.01023491 0.0115486  0.00490681 0.00243784 0.04383128 0.01072192\n",
      "  0.01328359 0.00614233 0.00261424]\n",
      " [0.04557734 0.01053998 0.01451496 0.00592511 0.00255613 0.04212258\n",
      "  0.0102107  0.01051716 0.00520912 0.00237696 0.03911125 0.00885135\n",
      "  0.0114144  0.00527968 0.00261493]\n",
      " [0.04838805 0.00935358 0.01132031 0.00533848 0.00235967 0.04347225\n",
      "  0.01040855 0.01149464 0.00523125 0.0025001  0.04754269 0.01032553\n",
      "  0.01094191 0.00510189 0.00254783]\n",
      " [0.04466349 0.01072607 0.0121802  0.00593134 0.00268065 0.04654099\n",
      "  0.01005297 0.01227359 0.00596247 0.0026011  0.04847244 0.00983713\n",
      "  0.01191455 0.00615063 0.00249595]\n",
      " [0.04394058 0.01176513 0.01268174 0.00587046 0.00303    0.04678588\n",
      "  0.00992637 0.01190418 0.00577707 0.00274914 0.04403605 0.01050124\n",
      "  0.01139848 0.00585524 0.00260041]\n",
      " [0.04600693 0.00960193 0.01166897 0.00536892 0.00262462 0.04841502\n",
      "  0.01036358 0.01220856 0.0057826  0.00286813 0.04796467 0.00983575\n",
      "  0.01111901 0.00501057 0.00275952]\n",
      " [0.05150245 0.0093349  0.01279796 0.00576946 0.0029373  0.0578191\n",
      "  0.00985443 0.01339704 0.00582757 0.00280794 0.05162558 0.01064237\n",
      "  0.01292801 0.00516    0.00282524]]\n"
     ]
    }
   ],
   "source": [
    "#Data\n",
    "#get wave_file and labels\n",
    "rate1 , audio1 = sio.read('Recorded_data/bus_stop2.wav')\n",
    "rate2 , audio2 = sio.read('Recorded_data/construction_site2.wav')\n",
    "rate3 , audio3 = sio.read('Recorded_data/park.wav')\n",
    "\n",
    "label1 = sp.io.loadmat('Recorded_data/bus_stop.mat')\n",
    "label1 = label1['y_label']\n",
    "label2 = sp.io.loadmat('Recorded_data/construction_site.mat')\n",
    "label2 = label2['y_label']\n",
    "label3 = sp.io.loadmat('Recorded_data/park.mat')\n",
    "label3 = label3['y_label']\n",
    "\n",
    "\n",
    "#Combine Audio and Labels\n",
    "rate = rate1\n",
    "audio = np.hstack((audio1,audio2,audio3))\n",
    "labels = np.vstack((label1,label2,label3))\n",
    "\n",
    "#Use vectorize function to fft, bin,average, and group data together\n",
    "data, labels = vectorize(audio,rate,1/4,group_size = 3,full = False, training = True,labels = labels, serial = False)\n",
    "\n",
    "print(data.shape)\n",
    "print(labels.shape)\n",
    "print(data[5000:5010])"
   ]
  },
  {
   "cell_type": "code",
   "execution_count": 16,
   "metadata": {
    "scrolled": true
   },
   "outputs": [
    {
     "name": "stdout",
     "output_type": "stream",
     "text": [
      "Epoch 1/100\n",
      "7209/7209 [==============================] - 0s 42us/sample - loss: 0.6228 - acc: 0.7609\n",
      "Epoch 2/100\n",
      "7209/7209 [==============================] - 0s 27us/sample - loss: 0.4908 - acc: 0.7814\n",
      "Epoch 3/100\n",
      "7209/7209 [==============================] - 0s 28us/sample - loss: 0.4486 - acc: 0.7936\n",
      "Epoch 4/100\n",
      "7209/7209 [==============================] - 0s 29us/sample - loss: 0.4346 - acc: 0.7986\n",
      "Epoch 5/100\n",
      "7209/7209 [==============================] - 0s 30us/sample - loss: 0.4170 - acc: 0.8136\n",
      "Epoch 6/100\n",
      "7209/7209 [==============================] - 0s 29us/sample - loss: 0.3970 - acc: 0.8272\n",
      "Epoch 7/100\n",
      "7209/7209 [==============================] - 0s 29us/sample - loss: 0.3868 - acc: 0.8358\n",
      "Epoch 8/100\n",
      "7209/7209 [==============================] - 0s 29us/sample - loss: 0.3823 - acc: 0.8359\n",
      "Epoch 9/100\n",
      "7209/7209 [==============================] - 0s 29us/sample - loss: 0.3768 - acc: 0.8409\n",
      "Epoch 10/100\n",
      "7209/7209 [==============================] - 0s 29us/sample - loss: 0.3689 - acc: 0.8473\n",
      "Epoch 11/100\n",
      "7209/7209 [==============================] - 0s 30us/sample - loss: 0.3681 - acc: 0.8499\n",
      "Epoch 12/100\n",
      "7209/7209 [==============================] - 0s 28us/sample - loss: 0.3579 - acc: 0.8531\n",
      "Epoch 13/100\n",
      "7209/7209 [==============================] - 0s 27us/sample - loss: 0.3516 - acc: 0.8556\n",
      "Epoch 14/100\n",
      "7209/7209 [==============================] - 0s 27us/sample - loss: 0.3486 - acc: 0.8570\n",
      "Epoch 15/100\n",
      "7209/7209 [==============================] - 0s 32us/sample - loss: 0.3482 - acc: 0.8534\n",
      "Epoch 16/100\n",
      "7209/7209 [==============================] - 0s 29us/sample - loss: 0.3420 - acc: 0.8566\n",
      "Epoch 17/100\n",
      "7209/7209 [==============================] - 0s 29us/sample - loss: 0.3385 - acc: 0.8599\n",
      "Epoch 18/100\n",
      "7209/7209 [==============================] - 0s 29us/sample - loss: 0.3346 - acc: 0.8613\n",
      "Epoch 19/100\n",
      "7209/7209 [==============================] - 0s 30us/sample - loss: 0.3271 - acc: 0.8603\n",
      "Epoch 20/100\n",
      "7209/7209 [==============================] - 0s 28us/sample - loss: 0.3198 - acc: 0.8650\n",
      "Epoch 21/100\n",
      "7209/7209 [==============================] - 0s 28us/sample - loss: 0.3171 - acc: 0.8646\n",
      "Epoch 22/100\n",
      "7209/7209 [==============================] - 0s 30us/sample - loss: 0.3180 - acc: 0.8661\n",
      "Epoch 23/100\n",
      "7209/7209 [==============================] - 0s 27us/sample - loss: 0.3180 - acc: 0.8661\n",
      "Epoch 24/100\n",
      "7209/7209 [==============================] - 0s 29us/sample - loss: 0.3107 - acc: 0.8684\n",
      "Epoch 25/100\n",
      "7209/7209 [==============================] - 0s 29us/sample - loss: 0.3109 - acc: 0.8713\n",
      "Epoch 26/100\n",
      "7209/7209 [==============================] - 0s 28us/sample - loss: 0.3044 - acc: 0.8752\n",
      "Epoch 27/100\n",
      "7209/7209 [==============================] - 0s 28us/sample - loss: 0.3042 - acc: 0.8757\n",
      "Epoch 28/100\n",
      "7209/7209 [==============================] - 0s 29us/sample - loss: 0.2982 - acc: 0.8796\n",
      "Epoch 29/100\n",
      "7209/7209 [==============================] - 0s 29us/sample - loss: 0.2926 - acc: 0.8788\n",
      "Epoch 30/100\n",
      "7209/7209 [==============================] - 0s 28us/sample - loss: 0.2920 - acc: 0.8811\n",
      "Epoch 31/100\n",
      "7209/7209 [==============================] - 0s 28us/sample - loss: 0.2917 - acc: 0.8829\n",
      "Epoch 32/100\n",
      "7209/7209 [==============================] - 0s 29us/sample - loss: 0.2878 - acc: 0.8829\n",
      "Epoch 33/100\n",
      "7209/7209 [==============================] - 0s 28us/sample - loss: 0.2847 - acc: 0.8849\n",
      "Epoch 34/100\n",
      "7209/7209 [==============================] - 0s 28us/sample - loss: 0.2843 - acc: 0.8853\n",
      "Epoch 35/100\n",
      "7209/7209 [==============================] - 0s 29us/sample - loss: 0.2800 - acc: 0.8904\n",
      "Epoch 36/100\n",
      "7209/7209 [==============================] - 0s 29us/sample - loss: 0.2826 - acc: 0.8872\n",
      "Epoch 37/100\n",
      "7209/7209 [==============================] - 0s 30us/sample - loss: 0.2790 - acc: 0.8914\n",
      "Epoch 38/100\n",
      "7209/7209 [==============================] - 0s 28us/sample - loss: 0.2761 - acc: 0.8911\n",
      "Epoch 39/100\n",
      "7209/7209 [==============================] - 0s 27us/sample - loss: 0.2786 - acc: 0.8882\n",
      "Epoch 40/100\n",
      "7209/7209 [==============================] - 0s 28us/sample - loss: 0.2825 - acc: 0.8874\n",
      "Epoch 41/100\n",
      "7209/7209 [==============================] - 0s 28us/sample - loss: 0.2753 - acc: 0.8924\n",
      "Epoch 42/100\n",
      "7209/7209 [==============================] - 0s 28us/sample - loss: 0.2732 - acc: 0.8912\n",
      "Epoch 43/100\n",
      "7209/7209 [==============================] - 0s 31us/sample - loss: 0.2678 - acc: 0.8933\n",
      "Epoch 44/100\n",
      "7209/7209 [==============================] - 0s 29us/sample - loss: 0.2705 - acc: 0.8944\n",
      "Epoch 45/100\n",
      "7209/7209 [==============================] - 0s 29us/sample - loss: 0.2685 - acc: 0.8947\n",
      "Epoch 46/100\n",
      "7209/7209 [==============================] - 0s 29us/sample - loss: 0.2629 - acc: 0.8987\n",
      "Epoch 47/100\n",
      "7209/7209 [==============================] - 0s 29us/sample - loss: 0.2702 - acc: 0.8944\n",
      "Epoch 48/100\n",
      "7209/7209 [==============================] - 0s 29us/sample - loss: 0.2675 - acc: 0.8918\n",
      "Epoch 49/100\n",
      "7209/7209 [==============================] - 0s 31us/sample - loss: 0.2595 - acc: 0.8982\n",
      "Epoch 50/100\n",
      "7209/7209 [==============================] - 0s 29us/sample - loss: 0.2601 - acc: 0.8976\n",
      "Epoch 51/100\n",
      "7209/7209 [==============================] - 0s 30us/sample - loss: 0.2579 - acc: 0.9008\n",
      "Epoch 52/100\n",
      "7209/7209 [==============================] - 0s 33us/sample - loss: 0.2583 - acc: 0.8967\n",
      "Epoch 53/100\n",
      "7209/7209 [==============================] - 0s 36us/sample - loss: 0.2593 - acc: 0.8946\n",
      "Epoch 54/100\n",
      "7209/7209 [==============================] - 0s 34us/sample - loss: 0.2675 - acc: 0.8935\n",
      "Epoch 55/100\n",
      "7209/7209 [==============================] - 0s 37us/sample - loss: 0.2572 - acc: 0.8979\n",
      "Epoch 56/100\n",
      "7209/7209 [==============================] - 0s 36us/sample - loss: 0.2522 - acc: 0.9030\n",
      "Epoch 57/100\n",
      "7209/7209 [==============================] - 0s 37us/sample - loss: 0.2523 - acc: 0.9012\n",
      "Epoch 58/100\n",
      "7209/7209 [==============================] - 0s 37us/sample - loss: 0.2592 - acc: 0.8960\n",
      "Epoch 59/100\n",
      "7209/7209 [==============================] - 0s 37us/sample - loss: 0.2535 - acc: 0.8997\n",
      "Epoch 60/100\n",
      "7209/7209 [==============================] - 0s 37us/sample - loss: 0.2548 - acc: 0.8993\n",
      "Epoch 61/100\n",
      "7209/7209 [==============================] - 0s 38us/sample - loss: 0.2515 - acc: 0.9000\n",
      "Epoch 62/100\n",
      "7209/7209 [==============================] - 0s 37us/sample - loss: 0.2564 - acc: 0.8957\n",
      "Epoch 63/100\n",
      "7209/7209 [==============================] - 0s 34us/sample - loss: 0.2548 - acc: 0.9004\n",
      "Epoch 64/100\n",
      "7209/7209 [==============================] - 0s 33us/sample - loss: 0.2533 - acc: 0.8993\n",
      "Epoch 65/100\n",
      "7209/7209 [==============================] - 0s 33us/sample - loss: 0.2540 - acc: 0.9007\n",
      "Epoch 66/100\n",
      "7209/7209 [==============================] - 0s 34us/sample - loss: 0.2500 - acc: 0.9010\n",
      "Epoch 67/100\n",
      "7209/7209 [==============================] - 0s 34us/sample - loss: 0.2499 - acc: 0.9000\n",
      "Epoch 68/100\n",
      "7209/7209 [==============================] - 0s 35us/sample - loss: 0.2398 - acc: 0.9047\n",
      "Epoch 69/100\n",
      "7209/7209 [==============================] - 0s 34us/sample - loss: 0.2457 - acc: 0.9017\n",
      "Epoch 70/100\n",
      "7209/7209 [==============================] - 0s 34us/sample - loss: 0.2439 - acc: 0.9040\n",
      "Epoch 71/100\n",
      "7209/7209 [==============================] - 0s 34us/sample - loss: 0.2392 - acc: 0.9046\n",
      "Epoch 72/100\n",
      "7209/7209 [==============================] - 0s 34us/sample - loss: 0.2469 - acc: 0.8983\n",
      "Epoch 73/100\n",
      "7209/7209 [==============================] - 0s 34us/sample - loss: 0.2431 - acc: 0.9032\n",
      "Epoch 74/100\n",
      "7209/7209 [==============================] - 0s 34us/sample - loss: 0.2442 - acc: 0.9040\n",
      "Epoch 75/100\n",
      "7209/7209 [==============================] - 0s 34us/sample - loss: 0.2432 - acc: 0.9010\n",
      "Epoch 76/100\n",
      "7209/7209 [==============================] - 0s 34us/sample - loss: 0.2344 - acc: 0.9075\n",
      "Epoch 77/100\n",
      "7209/7209 [==============================] - 0s 34us/sample - loss: 0.2401 - acc: 0.9039\n",
      "Epoch 78/100\n",
      "7209/7209 [==============================] - 0s 33us/sample - loss: 0.2317 - acc: 0.9083\n",
      "Epoch 79/100\n",
      "7209/7209 [==============================] - 0s 34us/sample - loss: 0.2395 - acc: 0.9076\n",
      "Epoch 80/100\n",
      "7209/7209 [==============================] - 0s 34us/sample - loss: 0.2380 - acc: 0.9069\n",
      "Epoch 81/100\n",
      "7209/7209 [==============================] - 0s 34us/sample - loss: 0.2346 - acc: 0.9060\n",
      "Epoch 82/100\n",
      "7209/7209 [==============================] - 0s 34us/sample - loss: 0.2318 - acc: 0.9068\n",
      "Epoch 83/100\n",
      "7209/7209 [==============================] - 0s 34us/sample - loss: 0.2349 - acc: 0.9060\n",
      "Epoch 84/100\n",
      "7209/7209 [==============================] - 0s 35us/sample - loss: 0.2327 - acc: 0.9093\n",
      "Epoch 85/100\n",
      "7209/7209 [==============================] - 0s 34us/sample - loss: 0.2374 - acc: 0.9054\n",
      "Epoch 86/100\n",
      "7209/7209 [==============================] - 0s 33us/sample - loss: 0.2304 - acc: 0.9075\n",
      "Epoch 87/100\n",
      "7209/7209 [==============================] - 0s 33us/sample - loss: 0.2393 - acc: 0.9060\n",
      "Epoch 88/100\n",
      "7209/7209 [==============================] - 0s 33us/sample - loss: 0.2305 - acc: 0.9098\n",
      "Epoch 89/100\n",
      "7209/7209 [==============================] - 0s 35us/sample - loss: 0.2353 - acc: 0.9066\n",
      "Epoch 90/100\n",
      "7209/7209 [==============================] - 0s 30us/sample - loss: 0.2375 - acc: 0.9076\n",
      "Epoch 91/100\n",
      "7209/7209 [==============================] - 0s 33us/sample - loss: 0.2266 - acc: 0.9103\n",
      "Epoch 92/100\n",
      "7209/7209 [==============================] - 0s 34us/sample - loss: 0.2358 - acc: 0.9066\n",
      "Epoch 93/100\n",
      "7209/7209 [==============================] - 0s 34us/sample - loss: 0.2348 - acc: 0.9061\n",
      "Epoch 94/100\n",
      "7209/7209 [==============================] - 0s 34us/sample - loss: 0.2313 - acc: 0.9104\n",
      "Epoch 95/100\n",
      "7209/7209 [==============================] - 0s 34us/sample - loss: 0.2284 - acc: 0.9093\n",
      "Epoch 96/100\n",
      "7209/7209 [==============================] - 0s 34us/sample - loss: 0.2227 - acc: 0.9127\n",
      "Epoch 97/100\n",
      "7209/7209 [==============================] - 0s 35us/sample - loss: 0.2225 - acc: 0.9134\n",
      "Epoch 98/100\n",
      "7209/7209 [==============================] - 0s 34us/sample - loss: 0.2285 - acc: 0.9098\n",
      "Epoch 99/100\n",
      "7209/7209 [==============================] - 0s 34us/sample - loss: 0.2280 - acc: 0.9121\n",
      "Epoch 100/100\n",
      "7209/7209 [==============================] - 0s 35us/sample - loss: 0.2251 - acc: 0.9129\n"
     ]
    },
    {
     "data": {
      "text/plain": [
       "<tensorflow.python.keras.callbacks.History at 0x7fcc6815cef0>"
      ]
     },
     "execution_count": 16,
     "metadata": {},
     "output_type": "execute_result"
    }
   ],
   "source": [
    "#Define the model you want and train it here\n",
    "model = tf.keras.models.Sequential([\n",
    "  tf.keras.layers.Dense(9, activation=tf.nn.relu),\n",
    "  tf.keras.layers.Dropout(0.2),\n",
    "  tf.keras.layers.Dense(6, activation=tf.nn.relu),  \n",
    "  tf.keras.layers.Dense(2, activation=tf.nn.softmax),\n",
    "])\n",
    "model.compile(optimizer='adam',\n",
    "              loss='sparse_categorical_crossentropy',\n",
    "              metrics=['accuracy'])\n",
    "\n",
    "model.fit(data, labels, epochs=100)"
   ]
  },
  {
   "cell_type": "code",
   "execution_count": 21,
   "metadata": {
    "scrolled": true
   },
   "outputs": [
    {
     "name": "stdout",
     "output_type": "stream",
     "text": [
      "WARNING:tensorflow:This model was compiled with a Keras optimizer (<tensorflow.python.keras.optimizers.Adam object at 0x7fcd046d3320>) but is being saved in TensorFlow format with `save_weights`. The model's weights will be saved, but unlike with TensorFlow optimizers in the TensorFlow format the optimizer's state will not be saved.\n",
      "\n",
      "Consider using a TensorFlow optimizer from `tf.train`.\n"
     ]
    }
   ],
   "source": [
    "# Save weights to a TensorFlow Checkpoint file\n",
    "model.save_weights('./weights/my_model')"
   ]
  },
  {
   "cell_type": "code",
   "execution_count": 17,
   "metadata": {
    "scrolled": false
   },
   "outputs": [
    {
     "name": "stdout",
     "output_type": "stream",
     "text": [
      "2403/2403 [==============================] - 0s 32us/sample - loss: 0.1699 - acc: 0.9496\n",
      "\n",
      "Test accuracy: 0.9496463\n"
     ]
    },
    {
     "data": {
      "image/png": "[encoded data removed]",
      "text/plain": [
       "<Figure size 432x288 with 1 Axes>"
      ]
     },
     "metadata": {
      "needs_background": "light"
     },
     "output_type": "display_data"
    },
    {
     "data": {
      "image/png": "[encoded data removed]",
      "text/plain": [
       "<Figure size 432x288 with 1 Axes>"
      ]
     },
     "metadata": {
      "needs_background": "light"
     },
     "output_type": "display_data"
    }
   ],
   "source": [
    "#Choose test data for evaluation\n",
    "rate , audio = sio.read('Recorded_data/room.wav')\n",
    "label = sp.io.loadmat('Recorded_data/room.mat')\n",
    "label = label['y_label']\n",
    "\n",
    "test_data, test_labels = vectorize(audio,rate,1/4,group_size = 3,full = False, training = True,labels = label, serial = False)\n",
    "\n",
    "\n",
    "\n",
    "\n",
    "#test model accuracy\n",
    "test_loss, test_acc = model.evaluate(test_data, test_labels)\n",
    "print('\\nTest accuracy:', test_acc)\n",
    "\n",
    "\n",
    "#visualize input\n",
    "plt.plot(audio)\n",
    "plt.show()\n",
    "plt.plot(label)\n",
    "plt.show()"
   ]
  },
  {
   "cell_type": "code",
   "execution_count": 18,
   "metadata": {
    "scrolled": true
   },
   "outputs": [
    {
     "data": {
      "image/png": "[encoded data removed]",
      "text/plain": [
       "<Figure size 432x288 with 1 Axes>"
      ]
     },
     "metadata": {
      "needs_background": "light"
     },
     "output_type": "display_data"
    }
   ],
   "source": [
    "predictions = model.predict(test_data)\n",
    "#make and plot predictions\n",
    "c = np.argmax(predictions,axis=1)\n",
    "plt.plot(c)\n",
    "plt.show()"
   ]
  }
 ],
 "metadata": {
  "kernelspec": {
   "display_name": "Python 3",
   "language": "python",
   "name": "python3"
  },
  "language_info": {
   "codemirror_mode": {
    "name": "ipython",
    "version": 3
   },
   "file_extension": ".py",
   "mimetype": "text/x-python",
   "name": "python",
   "nbconvert_exporter": "python",
   "pygments_lexer": "ipython3",
   "version": "3.6.6"
  }
 },
 "nbformat": 4,
 "nbformat_minor": 2
}
