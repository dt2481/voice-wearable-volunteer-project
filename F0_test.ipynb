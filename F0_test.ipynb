{
 "cells": [
  {
   "cell_type": "code",
   "execution_count": 1,
   "metadata": {},
   "outputs": [],
   "source": [
    "#The purpose of this file is to test which frequency bands are important to VAD by removing select\n",
    "#bands during classification and viewing how this affects accuracy\n",
    "from __future__ import absolute_import, division, print_function\n",
    "\n",
    "import tensorflow as tf\n",
    "from tensorflow import keras\n",
    "import scipy.io.wavfile as sio\n",
    "import scipy as sp\n",
    "import matplotlib.pyplot as plt\n",
    "from utils import vectorize\n",
    "from utils import vectorize_teensy\n",
    "import csv\n",
    "tf.enable_eager_execution()\n",
    "\n",
    "import numpy as np\n",
    "import time"
   ]
  },
  {
   "cell_type": "code",
   "execution_count": 9,
   "metadata": {},
   "outputs": [
    {
     "name": "stdout",
     "output_type": "stream",
     "text": [
      "(24, 15, 1)\n",
      "(24, 1)\n"
     ]
    }
   ],
   "source": [
    "#load data and process\n",
    "rate , audio = sio.read('data/audio/d_voice.wav')\n",
    "\n",
    "\n",
    "#create labels\n",
    "labels = np.zeros(audio.shape[0])\n",
    "labels[int(rate*1.44):int(rate*4.075)] = 1\n",
    "labels[int(rate*9.961):int(rate*13.932)] = 1\n",
    "\n",
    "data, labels = vectorize(audio,rate,1/4,group_size = 3,full = False, training = True, labels = labels, serial = False)\n",
    "dim = data.shape\n",
    "data = data.reshape(dim[0],dim[1],1)\n",
    "print(data.shape)\n",
    "print(labels.shape)"
   ]
  },
  {
   "cell_type": "code",
   "execution_count": 10,
   "metadata": {},
   "outputs": [
    {
     "name": "stdout",
     "output_type": "stream",
     "text": [
      "\r",
      "24/24 [==============================] - 1s 31ms/sample - loss: 0.5417 - acc: 0.4583\n"
     ]
    },
    {
     "data": {
      "text/plain": [
       "[0.541665256023407, 0.45833334]"
      ]
     },
     "execution_count": 10,
     "metadata": {},
     "output_type": "execute_result"
    }
   ],
   "source": [
    "#load up model and check classification accuracy\n",
    "\n",
    "model = tf.keras.models.Sequential([\n",
    "  tf.keras.layers.LSTM((1), return_sequences = False)\n",
    " \n",
    "])\n",
    "#compile model\n",
    "model.compile(optimizer='adam',\n",
    "              loss='mean_absolute_error',\n",
    "              metrics=['accuracy'])\n",
    "#load weights\n",
    "model.load_weights('./weights/my_model')\n",
    "\n",
    "\n",
    "model.evaluate(data,labels)\n"
   ]
  },
  {
   "cell_type": "code",
   "execution_count": 13,
   "metadata": {},
   "outputs": [
    {
     "data": {
      "image/png": "[encoded data removed]",
      "text/plain": [
       "<Figure size 432x288 with 1 Axes>"
      ]
     },
     "metadata": {
      "needs_background": "light"
     },
     "output_type": "display_data"
    }
   ],
   "source": [
    "#create 5 modified inputs and run classification on each for accuracy. print out results\n",
    "\n",
    "\n",
    "prediction = model.predict(data)\n",
    "\n",
    "#plt.plot(audio)\n",
    "#plt.show()\n",
    "\n",
    "plt.plot(prediction)\n",
    "\n",
    "\n",
    "plt.plot(labels)\n",
    "plt.show()"
   ]
  }
 ],
 "metadata": {
  "kernelspec": {
   "display_name": "Python 3",
   "language": "python",
   "name": "python3"
  },
  "language_info": {
   "codemirror_mode": {
    "name": "ipython",
    "version": 3
   },
   "file_extension": ".py",
   "mimetype": "text/x-python",
   "name": "python",
   "nbconvert_exporter": "python",
   "pygments_lexer": "ipython3",
   "version": "3.6.6"
  }
 },
 "nbformat": 4,
 "nbformat_minor": 2
}
