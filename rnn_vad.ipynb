{
 "cells": [
  {
   "cell_type": "code",
   "execution_count": 1,
   "metadata": {},
   "outputs": [],
   "source": [
    "#Recurrent Neural Network for Voice Activity Detection\n",
    "from __future__ import absolute_import, division, print_function\n",
    "\n",
    "import tensorflow as tf\n",
    "from tensorflow import keras\n",
    "import scipy.io.wavfile as sio\n",
    "import scipy as sp\n",
    "import matplotlib.pyplot as plt\n",
    "from utils import vectorize\n",
    "from utils import vectorize_teensy\n",
    "import csv\n",
    "tf.enable_eager_execution()\n",
    "\n",
    "import numpy as np\n",
    "import time"
   ]
  },
  {
   "cell_type": "markdown",
   "metadata": {},
   "source": [
    "# Training"
   ]
  },
  {
   "cell_type": "code",
   "execution_count": 2,
   "metadata": {},
   "outputs": [
    {
     "name": "stderr",
     "output_type": "stream",
     "text": [
      "/home/darnel/anaconda3/envs/myenv/lib/python3.6/site-packages/scipy/io/wavfile.py:273: WavFileWarning: Chunk (non-data) not understood, skipping it.\n",
      "  WavFileWarning)\n"
     ]
    },
    {
     "name": "stdout",
     "output_type": "stream",
     "text": [
      "(7209, 15, 1)\n",
      "(7209, 1)\n",
      "(2403, 15, 1)\n",
      "(2403, 1)\n"
     ]
    }
   ],
   "source": [
    "#Input data and labels\n",
    "\n",
    "##EXAMPLE 1\n",
    "#AUDIO DATA\n",
    "rate1 , audio1 = sio.read('data/audio/bus_stop.wav')\n",
    "rate2 , audio2 = sio.read('data/audio/construction_site.wav')\n",
    "rate3 , audio3 = sio.read('data/audio/park.wav')\n",
    "rate4 , audio4 = sio.read('data/audio/room.wav')\n",
    "\n",
    "label1 = sp.io.loadmat('data/audio/bus_stop.mat')\n",
    "label1 = label1['y_label']\n",
    "label2 = sp.io.loadmat('data/audio/construction_site.mat')\n",
    "label2 = label2['y_label']\n",
    "label3 = sp.io.loadmat('data/audio/park.mat')\n",
    "label3 = label3['y_label']\n",
    "label4 = sp.io.loadmat('data/audio/room.mat')\n",
    "label4 = label4['y_label']\n",
    "\n",
    "\n",
    "#Each audio sample here is sampled at 16000hz, so they can all be combined into 1 long sample\n",
    "rate = rate1\n",
    "audio = np.hstack((audio1,audio2,audio3))\n",
    "labels = np.vstack((label1,label2,label3))\n",
    "\n",
    "#Use vectorize function to fft, bin,average, and group data together\n",
    "data, labels = vectorize(audio,rate,1/4,group_size = 3,full = False, training = True,labels = labels, serial = False)\n",
    "val_data, val_labels = vectorize(audio4,rate4,1/4,group_size=3,full=False,training=True,labels=label4,serial = False)\n",
    "\n",
    "#reshape data to fit into RNN\n",
    "data = data.reshape(data.shape[0],data.shape[1],1)\n",
    "val_data = val_data.reshape(val_data.shape[0],val_data.shape[1],1)\n",
    "\n",
    "print(data.shape)\n",
    "print(labels.shape)\n",
    "print(val_data.shape)\n",
    "print(val_labels.shape)"
   ]
  },
  {
   "cell_type": "code",
   "execution_count": 3,
   "metadata": {
    "scrolled": true
   },
   "outputs": [
    {
     "name": "stdout",
     "output_type": "stream",
     "text": [
      "WARNING:tensorflow:From /home/darnel/anaconda3/envs/myenv/lib/python3.6/site-packages/tensorflow/python/ops/tensor_array_ops.py:162: colocate_with (from tensorflow.python.framework.ops) is deprecated and will be removed in a future version.\n",
      "Instructions for updating:\n",
      "Colocations handled automatically by placer.\n",
      "Train on 7209 samples, validate on 2403 samples\n",
      "WARNING:tensorflow:From /home/darnel/anaconda3/envs/myenv/lib/python3.6/site-packages/tensorflow/python/ops/math_ops.py:3066: to_int32 (from tensorflow.python.ops.math_ops) is deprecated and will be removed in a future version.\n",
      "Instructions for updating:\n",
      "Use tf.cast instead.\n",
      "Epoch 1/20\n",
      "7209/7209 [==============================] - 2s 268us/sample - loss: 0.3537 - acc: 0.6460 - val_loss: 0.3549 - val_acc: 0.6425\n",
      "Epoch 2/20\n",
      "7209/7209 [==============================] - 2s 237us/sample - loss: 0.3519 - acc: 0.6460 - val_loss: 0.3448 - val_acc: 0.6425\n",
      "Epoch 3/20\n",
      "7209/7209 [==============================] - 2s 272us/sample - loss: 0.3271 - acc: 0.6803 - val_loss: 0.2492 - val_acc: 0.7840\n",
      "Epoch 4/20\n",
      "7209/7209 [==============================] - 2s 256us/sample - loss: 0.2852 - acc: 0.7722 - val_loss: 0.2206 - val_acc: 0.8048\n",
      "Epoch 5/20\n",
      "7209/7209 [==============================] - 2s 249us/sample - loss: 0.2710 - acc: 0.7825 - val_loss: 0.1949 - val_acc: 0.8269\n",
      "Epoch 6/20\n",
      "7209/7209 [==============================] - 2s 250us/sample - loss: 0.2638 - acc: 0.7844 - val_loss: 0.2063 - val_acc: 0.8152\n",
      "Epoch 7/20\n",
      "7209/7209 [==============================] - 2s 245us/sample - loss: 0.2599 - acc: 0.7835 - val_loss: 0.2103 - val_acc: 0.8119\n",
      "Epoch 8/20\n",
      "7209/7209 [==============================] - 2s 251us/sample - loss: 0.2568 - acc: 0.7853 - val_loss: 0.2031 - val_acc: 0.8177\n",
      "Epoch 9/20\n",
      "7209/7209 [==============================] - 2s 254us/sample - loss: 0.2540 - acc: 0.7867 - val_loss: 0.1952 - val_acc: 0.8227\n",
      "Epoch 10/20\n",
      "7209/7209 [==============================] - 2s 270us/sample - loss: 0.2519 - acc: 0.7889 - val_loss: 0.2169 - val_acc: 0.8082\n",
      "Epoch 11/20\n",
      "7209/7209 [==============================] - 2s 266us/sample - loss: 0.2509 - acc: 0.7857 - val_loss: 0.1952 - val_acc: 0.8227\n",
      "Epoch 12/20\n",
      "7209/7209 [==============================] - 2s 253us/sample - loss: 0.2475 - acc: 0.7890 - val_loss: 0.2039 - val_acc: 0.8156\n",
      "Epoch 13/20\n",
      "7209/7209 [==============================] - 2s 254us/sample - loss: 0.2463 - acc: 0.7893 - val_loss: 0.1972 - val_acc: 0.8215\n",
      "Epoch 14/20\n",
      "7209/7209 [==============================] - 2s 251us/sample - loss: 0.2453 - acc: 0.7886 - val_loss: 0.1979 - val_acc: 0.8198\n",
      "Epoch 15/20\n",
      "7209/7209 [==============================] - 2s 252us/sample - loss: 0.2435 - acc: 0.7897 - val_loss: 0.2028 - val_acc: 0.8177\n",
      "Epoch 16/20\n",
      "7209/7209 [==============================] - 2s 252us/sample - loss: 0.2421 - acc: 0.7892 - val_loss: 0.1881 - val_acc: 0.8248\n",
      "Epoch 17/20\n",
      "7209/7209 [==============================] - 2s 259us/sample - loss: 0.2412 - acc: 0.7921 - val_loss: 0.1847 - val_acc: 0.8265\n",
      "Epoch 18/20\n",
      "7209/7209 [==============================] - 2s 264us/sample - loss: 0.2402 - acc: 0.7907 - val_loss: 0.1828 - val_acc: 0.8285\n",
      "Epoch 19/20\n",
      "7209/7209 [==============================] - 2s 247us/sample - loss: 0.2389 - acc: 0.7910 - val_loss: 0.1949 - val_acc: 0.8223\n",
      "Epoch 20/20\n",
      "7209/7209 [==============================] - 2s 254us/sample - loss: 0.2373 - acc: 0.7922 - val_loss: 0.1989 - val_acc: 0.8202\n",
      "WARNING:tensorflow:This model was compiled with a Keras optimizer (<tensorflow.python.keras.optimizers.Adam object at 0x7fed127545c0>) but is being saved in TensorFlow format with `save_weights`. The model's weights will be saved, but unlike with TensorFlow optimizers in the TensorFlow format the optimizer's state will not be saved.\n",
      "\n",
      "Consider using a TensorFlow optimizer from `tf.train`.\n",
      "WARNING:tensorflow:From /home/darnel/anaconda3/envs/myenv/lib/python3.6/site-packages/tensorflow/python/keras/engine/network.py:1436: update_checkpoint_state (from tensorflow.python.training.checkpoint_management) is deprecated and will be removed in a future version.\n",
      "Instructions for updating:\n",
      "Use tf.train.CheckpointManager to manage checkpoints rather than manually editing the Checkpoint proto.\n"
     ]
    }
   ],
   "source": [
    "#Define model,compile, train, and save_weights\n",
    "\n",
    "model = tf.keras.models.Sequential([\n",
    "  tf.keras.layers.LSTM((1), return_sequences = False)\n",
    " \n",
    "])\n",
    "\n",
    "#compile model\n",
    "model.compile(optimizer='adam',\n",
    "              loss='mean_absolute_error',\n",
    "              metrics=['accuracy'])\n",
    "\n",
    "#train model\n",
    "history = model.fit(data, labels, epochs=20,validation_data = (val_data,val_labels))\n",
    "\n",
    "# Save weights\n",
    "model.save_weights('./weights/my_model')"
   ]
  },
  {
   "cell_type": "code",
   "execution_count": 4,
   "metadata": {
    "scrolled": true
   },
   "outputs": [
    {
     "data": {
      "image/png": "[encoded data removed]",
      "text/plain": [
       "<Figure size 432x288 with 1 Axes>"
      ]
     },
     "metadata": {
      "needs_background": "light"
     },
     "output_type": "display_data"
    },
    {
     "data": {
      "image/png": "[encoded data removed]",
      "text/plain": [
       "<Figure size 432x288 with 1 Axes>"
      ]
     },
     "metadata": {
      "needs_background": "light"
     },
     "output_type": "display_data"
    },
    {
     "data": {
      "image/png": "[encoded data removed]",
      "text/plain": [
       "<Figure size 432x288 with 1 Axes>"
      ]
     },
     "metadata": {
      "needs_background": "light"
     },
     "output_type": "display_data"
    }
   ],
   "source": [
    "#Evaluate Training\n",
    "results = model.predict(val_data)\n",
    "#print(results[0:10])\n",
    "#print(val_labels[0:10])\n",
    "\n",
    "plt.plot(results)\n",
    "plt.show()\n",
    "plt.plot(val_labels)\n",
    "plt.show()\n",
    "\n",
    "plt.plot(history.history['loss'])\n",
    "plt.show()"
   ]
  },
  {
   "cell_type": "markdown",
   "metadata": {},
   "source": [
    "# Classification"
   ]
  },
  {
   "cell_type": "code",
   "execution_count": 5,
   "metadata": {},
   "outputs": [
    {
     "name": "stdout",
     "output_type": "stream",
     "text": [
      "(2401, 15, 1)\n"
     ]
    }
   ],
   "source": [
    "#Define data for classification\n",
    "\n",
    "##EXAMPLE 1\n",
    "rate , audio = sio.read('data/audio/bus_stop.wav')\n",
    "\n",
    "\n",
    "#Use vectorize function to fft, bin,average, and group data together\n",
    "data = vectorize(audio,rate,1/4,group_size = 3,full = False, training = False, serial = False)\n",
    "dim = data.shape\n",
    "data = data.reshape(dim[0],dim[1],1)\n",
    "print(data.shape)\n"
   ]
  },
  {
   "cell_type": "code",
   "execution_count": 11,
   "metadata": {},
   "outputs": [
    {
     "name": "stdout",
     "output_type": "stream",
     "text": [
      "(33, 15, 1)\n"
     ]
    }
   ],
   "source": [
    "##EXAMPLE 2--Teensy data\n",
    "\n",
    "path = \"data/teensy_fft/test.csv\" #path to csv file with pasted serial monitor fft data\n",
    "\n",
    "data = vectorize_teensy(path)\n",
    "dim = data.shape\n",
    "data = data.reshape(dim[0],dim[1],1)\n",
    "print(data.shape)\n",
    "\n"
   ]
  },
  {
   "cell_type": "code",
   "execution_count": 6,
   "metadata": {
    "scrolled": true
   },
   "outputs": [
    {
     "data": {
      "image/png": "[encoded data removed]",
      "text/plain": [
       "<Figure size 432x288 with 1 Axes>"
      ]
     },
     "metadata": {
      "needs_background": "light"
     },
     "output_type": "display_data"
    }
   ],
   "source": [
    "#Load model, predict, and plot\n",
    "\n",
    "model = tf.keras.models.Sequential([\n",
    "  tf.keras.layers.LSTM((1), return_sequences = False)\n",
    " \n",
    "])\n",
    "#compile model\n",
    "model.compile(optimizer='adam',\n",
    "              loss='mean_absolute_error',\n",
    "              metrics=['accuracy'])\n",
    "#load weights\n",
    "model.load_weights('./weights/my_model')\n",
    "\n",
    "prediction = model.predict(data)\n",
    "\n",
    "#plt.plot(audio)\n",
    "#plt.show()\n",
    "\n",
    "plt.plot(prediction)\n",
    "plt.show()"
   ]
  },
  {
   "cell_type": "code",
   "execution_count": null,
   "metadata": {},
   "outputs": [],
   "source": [
    "#frequency test\n",
    "\n",
    "prediction = model.predict(data)\n",
    "\n",
    "#plt.plot(audio)\n",
    "#plt.show()\n",
    "\n",
    "plt.plot(prediction)\n",
    "plt.show()"
   ]
  }
 ],
 "metadata": {
  "kernelspec": {
   "display_name": "Python 3",
   "language": "python",
   "name": "python3"
  },
  "language_info": {
   "codemirror_mode": {
    "name": "ipython",
    "version": 3
   },
   "file_extension": ".py",
   "mimetype": "text/x-python",
   "name": "python",
   "nbconvert_exporter": "python",
   "pygments_lexer": "ipython3",
   "version": "3.6.6"
  }
 },
 "nbformat": 4,
 "nbformat_minor": 2
}
